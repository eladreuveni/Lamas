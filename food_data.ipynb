{
 "cells": [
  {
   "cell_type": "code",
   "execution_count": 2,
   "id": "92770892",
   "metadata": {},
   "outputs": [],
   "source": [
    "import numpy as np\n",
    "import pandas as pd\n",
    "import matplotlib.pyplot as plt\n",
    "import seaborn as sns"
   ]
  },
  {
   "cell_type": "code",
   "execution_count": null,
   "id": "a79d845a",
   "metadata": {},
   "outputs": [],
   "source": [
    "data = []\n",
    "\n",
    "for year in range(2012,2022):\n",
    "    from_csv = pd.read_csv(f'../Data/data_mb_all_years/{year}.csv')\n",
    "    df = pd.DataFrame()\n",
    "    \n",
    "    # Var names are inconsistent\n",
    "    nefashot = 'nefashot' if 'nefashot' in from_csv.columns else 'Nefashot'\n",
    "    mispar_mb = 'misparmb' if 'misparmb' in from_csv.columns else 'MisparMb'\n",
    "    net = 'net' if 'net' in from_csv.columns else 'Net'\n",
    "    decile = 'decile' if 'decile' in from_csv.columns else 'Decile'\n",
    "    \n",
    "    \n",
    "    df['decile'] = from_csv[decile] # עשירון    \n",
    "    df['year'] = year # שנת חקירה\n",
    "    df['nefashot'] = from_csv[nefashot] # נפשות במשק\n",
    "    df['neto'] = from_csv[net] # הכנסה כוללת נטו\n",
    "    df['food_no_fv'] = from_csv['c30'] # הוצאה על אוכל ללא פירות וירקות\n",
    "    df['fruits_vegtables'] = from_csv['c31'] # הוצאה על פירות וירקות\n",
    "    df['total_food'] = df['food_no_fv'] + df['fruits_vegtables'] # הוצאה על כל האוכל\n",
    "    df['housing'] = from_csv['c32'] # הוצאה על דיור\n",
    "    \n",
    "    data.append(df)"
   ]
  }
 ],
 "metadata": {
  "kernelspec": {
   "display_name": "Python 3 (ipykernel)",
   "language": "python",
   "name": "python3"
  },
  "language_info": {
   "codemirror_mode": {
    "name": "ipython",
    "version": 3
   },
   "file_extension": ".py",
   "mimetype": "text/x-python",
   "name": "python",
   "nbconvert_exporter": "python",
   "pygments_lexer": "ipython3",
   "version": "3.11.5"
  }
 },
 "nbformat": 4,
 "nbformat_minor": 5
}
