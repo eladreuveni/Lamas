{
 "cells": [
  {
   "cell_type": "code",
   "execution_count": 30,
   "id": "a5c1351c",
   "metadata": {},
   "outputs": [],
   "source": [
    "import numpy as np\n",
    "import pandas as pd\n",
    "from statsmodels.stats.weightstats import DescrStatsW"
   ]
  },
  {
   "cell_type": "code",
   "execution_count": 9,
   "id": "27f28b12",
   "metadata": {},
   "outputs": [
    {
     "data": {
      "text/plain": [
       "(array([[ 2.76405235,  1.40015721,  1.97873798],\n",
       "        [ 3.2408932 ,  2.86755799,  0.02272212],\n",
       "        [ 1.95008842,  0.84864279,  0.89678115],\n",
       "        [ 1.4105985 ,  1.14404357,  2.45427351],\n",
       "        [ 1.76103773,  1.12167502,  1.44386323],\n",
       "        [ 1.33367433,  2.49407907,  0.79484174],\n",
       "        [ 1.3130677 ,  0.14590426, -1.55298982],\n",
       "        [ 1.6536186 ,  1.8644362 ,  0.25783498],\n",
       "        [ 3.26975462, -0.45436567,  1.04575852],\n",
       "        [ 0.81281615,  2.53277921,  2.46935877],\n",
       "        [ 1.15494743,  1.37816252,  0.11221425],\n",
       "        [-0.98079647,  0.65208785,  1.15634897],\n",
       "        [ 2.23029068,  2.20237985,  0.61267318],\n",
       "        [ 0.69769725, -0.04855297, -0.42001794],\n",
       "        [-0.70627019,  2.9507754 ,  0.49034782],\n",
       "        [ 0.5619257 , -0.25279536,  1.77749036],\n",
       "        [-0.61389785,  0.78725972,  0.10453344],\n",
       "        [ 1.3869025 ,  0.48919486, -0.18063218],\n",
       "        [ 0.97181777,  1.42833187,  1.06651722],\n",
       "        [ 1.3024719 ,  0.36567791,  0.63725883]]),\n",
       " array([3, 2, 3, 3, 3, 3, 3, 1, 2, 3, 3, 2, 3, 2, 1, 3, 3, 1, 3, 1]))"
      ]
     },
     "execution_count": 9,
     "metadata": {},
     "output_type": "execute_result"
    }
   ],
   "source": [
    "np.random.seed(0)\n",
    "x1_2d = 1.0 + np.random.randn(20, 3)\n",
    "w1 = np.random.randint(1, 4, 20)\n",
    "x1_2d, w1"
   ]
  },
  {
   "cell_type": "code",
   "execution_count": 17,
   "id": "96654e43",
   "metadata": {},
   "outputs": [
    {
     "data": {
      "text/plain": [
       "array([1.31339743, 1.19573746, 0.86019412])"
      ]
     },
     "execution_count": 17,
     "metadata": {},
     "output_type": "execute_result"
    }
   ],
   "source": [
    "d1 = DescrStatsW(x1_2d, weights=w1)\n",
    "d1.mean"
   ]
  },
  {
   "cell_type": "code",
   "execution_count": 59,
   "id": "3edef014",
   "metadata": {},
   "outputs": [
    {
     "name": "stdout",
     "output_type": "stream",
     "text": [
      "       S_Seker  MisparMB  ...  Able_To_Start_A_Job  Work_Last_3_Month\n",
      "0         2020     14449  ...                  NaN                1.0\n",
      "1         2020     14450  ...                  NaN                2.0\n",
      "2         2020     14451  ...                  NaN                1.0\n",
      "3         2020     14451  ...                  NaN                2.0\n",
      "4         2020     14451  ...                  NaN                NaN\n",
      "...        ...       ...  ...                  ...                ...\n",
      "18232     2020     50475  ...                  NaN                1.0\n",
      "18233     2020     50476  ...                  NaN                2.0\n",
      "18234     2020     50476  ...                  NaN                2.0\n",
      "18235     2020     50476  ...                  NaN                1.0\n",
      "18236     2020     50476  ...                  NaN                2.0\n",
      "\n",
      "[18237 rows x 82 columns]\n",
      "       MisparMB    Weight  Net_Work_Prat\n",
      "0         14449  1684.705           9504\n",
      "1         14450  1085.435              0\n",
      "2         14451  2181.256           5019\n",
      "3         14451  2181.256              0\n",
      "4         14451  2181.256              0\n",
      "...         ...       ...            ...\n",
      "18232     50475   687.832           6241\n",
      "18233     50476   100.632              0\n",
      "18234     50476   100.632              0\n",
      "18235     50476   100.632           6145\n",
      "18236     50476   100.632              0\n",
      "\n",
      "[18237 rows x 3 columns]\n",
      "3783.463727586774\n",
      "3420.1949315516395\n"
     ]
    }
   ],
   "source": [
    "import scipy.stats as sp\n",
    "\n",
    "from_csv = pd.read_csv(f'../Data/2020/H20201021dataprat.csv')\n",
    "print(from_csv)\n",
    "\n",
    "df = from_csv[['MisparMB','Weight','Net_Work_Prat']]\n",
    "print(df)\n",
    "\n",
    "print(df['Net_Work_Prat'].mean())\n",
    "\n",
    "mesh = DescrStatsW(df['Net_Work_Prat'], weights=df['Weight'])\n",
    "print(mesh.mean)\n",
    "\n",
    "# Sample data\n",
    "# data = np.arange(1,501,1)\n",
    "\n",
    "# Calculate the 25th, 50th (median), and 75th percentiles\n",
    "# percentiles = np.arange(10,101,10)\n",
    "\n",
    "# for percentile in percentiles:\n",
    "#     # Calculate the percentile value\n",
    "#     value = np.percentile(data, percentile)\n",
    "\n",
    "#     # Calculate the percentile boundary\n",
    "#     boundary = sp.percentileofscore(data, value)\n",
    "\n",
    "#     print(f\"{percentile}th percentile: {value} (Boundary: {boundary}%)\")\n"
   ]
  }
 ],
 "metadata": {
  "kernelspec": {
   "display_name": "Python 3 (ipykernel)",
   "language": "python",
   "name": "python3"
  },
  "language_info": {
   "codemirror_mode": {
    "name": "ipython",
    "version": 3
   },
   "file_extension": ".py",
   "mimetype": "text/x-python",
   "name": "python",
   "nbconvert_exporter": "python",
   "pygments_lexer": "ipython3",
   "version": "3.11.5"
  }
 },
 "nbformat": 4,
 "nbformat_minor": 5
}
